{
 "cells": [
  {
   "cell_type": "code",
   "execution_count": null,
   "id": "a01ecd6b-7134-41cb-a816-e7af0359a129",
   "metadata": {},
   "outputs": [],
   "source": [
    "from selenium import webdriver\n",
    "from selenium.webdriver.common.by import By\n",
    "from skimage.metrics import structural_similarity as ssim\n",
    "\n",
    "import cv2\n",
    "import numpy as np\n",
    "import requests"
   ]
  },
  {
   "cell_type": "code",
   "execution_count": null,
   "id": "79d355e2",
   "metadata": {},
   "outputs": [],
   "source": [
    "URL='https://pixabay.com/images/search/portrait%20woman%20people/'\n",
    "IMAGE_REFERENCE_URL='photo6.jpg'\n",
    "DEPTH_SCRAPPING=0\n",
    "ACCURACY=0.8"
   ]
  },
  {
   "cell_type": "code",
   "execution_count": null,
   "id": "a068a382",
   "metadata": {},
   "outputs": [],
   "source": [
    "def go_to_url(url):\n",
    "    driver.get(url)\n",
    "    driver.implicitly_wait(10)"
   ]
  },
  {
   "cell_type": "code",
   "execution_count": null,
   "id": "df962360",
   "metadata": {},
   "outputs": [],
   "source": [
    "def get_images_urls(url):\n",
    "    try:\n",
    "        images = driver.find_elements(By.TAG_NAME, 'img')\n",
    "        image_urls = []\n",
    "        for img in images:\n",
    "            try:\n",
    "                src = img.get_attribute('src')\n",
    "                if src and (src.endswith('.png') or src.endswith('.jpeg') or src.endswith('.jpg') or src.endswith('.webp')):\n",
    "                    image_urls.append(src)\n",
    "            except Exception as e:\n",
    "                print(f\"Error obteniendo datos de una imagen\")\n",
    "\n",
    "        unique_image_urls = list(set(image_urls))\n",
    "        return unique_image_urls\n",
    "    finally:\n",
    "        print(f\"Se obtuvieron {len(image_urls)} imágenes de: {url}\")"
   ]
  },
  {
   "cell_type": "code",
   "execution_count": null,
   "id": "d00b8e4a",
   "metadata": {},
   "outputs": [],
   "source": [
    "def get_anchor_urls(url):\n",
    "    try:\n",
    "        anchors = driver.find_elements(By.TAG_NAME, 'a')\n",
    "        anchor_urls = []\n",
    "        for anchor in anchors:\n",
    "            try:\n",
    "                href = anchor.get_attribute('href')\n",
    "                if href:\n",
    "                    anchor_urls.append(href)\n",
    "            except Exception as e:\n",
    "                print(f\"Error obteniendo datos de un anchor\")\n",
    "        return anchor_urls\n",
    "    finally:\n",
    "        print(f\"Se obtuvieron {len(anchor_urls)} anclas de: {url}\")"
   ]
  },
  {
   "cell_type": "code",
   "execution_count": null,
   "id": "bc713bf4",
   "metadata": {},
   "outputs": [],
   "source": [
    "def download_and_format_image(url):\n",
    "    response = requests.get(url, stream=True)\n",
    "    if response.status_code == 200:\n",
    "        img_array = np.asarray(bytearray(response.content), dtype=np.uint8)\n",
    "        image = cv2.imdecode(img_array, cv2.IMREAD_COLOR)\n",
    "        return image\n",
    "    else:\n",
    "        raise Exception(f\"No se pudo descargar la imagen desde la URL: {url}\")"
   ]
  },
  {
   "cell_type": "code",
   "execution_count": null,
   "id": "38ad277c",
   "metadata": {},
   "outputs": [],
   "source": [
    "def compare_images(reference_image_url, image_url):\n",
    "    image_local = cv2.imread(reference_image_url)\n",
    "    if image_local is None:\n",
    "        raise Exception(f\"No se pudo cargar la imagen local: {reference_image_url}\")\n",
    "\n",
    "    image_url = download_and_format_image(image_url)\n",
    "    \n",
    "    image_local_resized = cv2.resize(image_local, (300, 300))\n",
    "    image_url_resized = cv2.resize(image_url, (300, 300))\n",
    "    \n",
    "    gray_local = cv2.cvtColor(image_local_resized, cv2.COLOR_BGR2GRAY)\n",
    "    gray_url = cv2.cvtColor(image_url_resized, cv2.COLOR_BGR2GRAY)\n",
    "    \n",
    "    score, _ = ssim(gray_local, gray_url, full=True)\n",
    "    return score\n"
   ]
  },
  {
   "cell_type": "code",
   "execution_count": null,
   "id": "3cc52403",
   "metadata": {},
   "outputs": [],
   "source": [
    "def scrap_and_analyze(url):\n",
    "    go_to_url(URL)\n",
    "    images = get_images_urls(URL)\n",
    "    anchors = get_anchor_urls(URL)\n",
    "    driver.quit()\n",
    "\n",
    "    for image_url in images:\n",
    "        try:\n",
    "            similarity_score = compare_images(IMAGE_REFERENCE_URL, image_url)\n",
    "            #print(f\"Puntuación de similitud (SSIM): {similarity_score}\")\n",
    "            if similarity_score > ACCURACY:\n",
    "                print(f\"Coincidencia encontrada! : {image_url}\")\n",
    "        except Exception as e:\n",
    "            print(f\"Error al comparar imagenes\") "
   ]
  },
  {
   "cell_type": "code",
   "execution_count": null,
   "id": "f971e66b",
   "metadata": {},
   "outputs": [],
   "source": [
    "def scrape_and_analyze_recursive(url, depth=0, max_depth=2):\n",
    "    if depth > max_depth:\n",
    "        return\n",
    "    \n",
    "    print(f\"Accediendo a {url} (nivel {depth})\")\n",
    "    go_to_url(url)\n",
    "    images = get_images_urls(url)\n",
    "    anchors = get_anchor_urls(url)\n",
    "\n",
    "    for image_url in images:\n",
    "        try:\n",
    "            similarity_score = compare_images(IMAGE_REFERENCE_URL, image_url)\n",
    "            if similarity_score > 0.7:\n",
    "                print(f\"Coincidencia encontrada en {image_url} con puntuación SSIM: {similarity_score}\")\n",
    "        except Exception as e:\n",
    "            print(f\"Error comparando imagen\")\n",
    "    \n",
    "    # Llamada recursiva para seguir los enlaces encontrados\n",
    "    for anchor_url in anchors:\n",
    "        if anchor_url not in visited_urls:\n",
    "            visited_urls.add(anchor_url)\n",
    "            scrape_and_analyze_recursive(anchor_url, depth + 1, max_depth)"
   ]
  },
  {
   "cell_type": "code",
   "execution_count": null,
   "id": "cc21f7d9",
   "metadata": {},
   "outputs": [],
   "source": [
    "driver = webdriver.Chrome()\n",
    "visited_urls = set()\n",
    "visited_urls.add(URL)\n",
    "\n",
    "try:\n",
    "    scrape_and_analyze_recursive(URL, depth=0, max_depth=DEPTH_SCRAPPING)\n",
    "except Exception as e:\n",
    "    print(f\"...\")\n",
    "finally:\n",
    "    driver.quit()"
   ]
  }
 ],
 "metadata": {
  "kernelspec": {
   "display_name": "env",
   "language": "python",
   "name": "python3"
  },
  "language_info": {
   "codemirror_mode": {
    "name": "ipython",
    "version": 3
   },
   "file_extension": ".py",
   "mimetype": "text/x-python",
   "name": "python",
   "nbconvert_exporter": "python",
   "pygments_lexer": "ipython3",
   "version": "3.12.3"
  }
 },
 "nbformat": 4,
 "nbformat_minor": 5
}
